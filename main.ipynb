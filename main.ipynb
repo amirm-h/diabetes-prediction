{
 "cells": [
  {
   "cell_type": "code",
   "execution_count": 1,
   "id": "2fde21fc-4735-4d48-a93e-722852485aac",
   "metadata": {},
   "outputs": [],
   "source": [
    "import pandas as pd\n",
    "import numpy as np\n",
    "from sklearn.model_selection import train_test_split\n",
    "from sklearn.preprocessing import StandardScaler, PowerTransformer\n",
    "from sklearn.metrics import accuracy_score\n",
    "from scipy.stats import skew\n",
    "from sklearn.ensemble import RandomForestClassifier\n",
    "from sklearn.linear_model import LogisticRegression\n",
    "from sklearn.svm import SVC\n",
    "from sklearn.neural_network import MLPClassifier"
   ]
  },
  {
   "cell_type": "code",
   "execution_count": 2,
   "id": "e1fbee8b-6ca8-4241-a7b4-9cae09ccf5bd",
   "metadata": {},
   "outputs": [],
   "source": [
    "# Loading the data\n",
    "data = pd.read_csv('diabetes.csv')"
   ]
  },
  {
   "cell_type": "code",
   "execution_count": 3,
   "id": "f4bf34fe-5006-4287-9c56-5c0c25b3950a",
   "metadata": {},
   "outputs": [
    {
     "name": "stderr",
     "output_type": "stream",
     "text": [
      "C:\\Users\\amirm\\AppData\\Local\\Temp\\ipykernel_18296\\69388294.py:11: FutureWarning: A value is trying to be set on a copy of a DataFrame or Series through chained assignment using an inplace method.\n",
      "The behavior will change in pandas 3.0. This inplace method will never work because the intermediate object on which we are setting values always behaves as a copy.\n",
      "\n",
      "For example, when doing 'df[col].method(value, inplace=True)', try using 'df.method({col: value}, inplace=True)' or df[col] = df[col].method(value) instead, to perform the operation inplace on the original object.\n",
      "\n",
      "\n",
      "  data[col].fillna(median_val, inplace=True)\n"
     ]
    }
   ],
   "source": [
    "# Replace unwanted values with NaN (null)\n",
    "data.loc[data['Glucose'] < 20, 'Glucose'] = np.nan\n",
    "data.loc[data['SkinThickness'] == 0 , 'SkinThickness'] = np.nan\n",
    "data.loc[data['BMI'] < 9, 'BMI'] = np.nan\n",
    "data.loc[data['BloodPressure'] == 0 , 'BloodPressure'] = np.nan\n",
    "\n",
    "# Impute missing values with the median\n",
    "cols_to_impute = ['Glucose', 'SkinThickness', 'BMI', 'BloodPressure']\n",
    "for col in cols_to_impute:\n",
    "    median_val = data[col].median()\n",
    "    data[col].fillna(median_val, inplace=True)"
   ]
  },
  {
   "cell_type": "code",
   "execution_count": 4,
   "id": "4e8cec3d-ae12-4d91-a597-ec4548fd2b20",
   "metadata": {},
   "outputs": [],
   "source": [
    "# Drop unnecessary features\n",
    "data = data.drop(columns=['Insulin', 'SkinThickness'])"
   ]
  },
  {
   "cell_type": "raw",
   "id": "25352a02-8806-4dfe-992f-0d37131a42ef",
   "metadata": {},
   "source": [
    "best_random_seeds = {'Random Forest (Raw Data)': 849, 'Logistic Regression (Raw Data): 142'\n",
    "                        'MLP (de-skewed)': 585, 'SVM (Scaled)': 645, 'MLP (Scaled)': 742}"
   ]
  },
  {
   "cell_type": "raw",
   "id": "619a9268-a1f0-40ed-97b7-95479c265463",
   "metadata": {},
   "source": [
    "best_models = ['Logistic Regression (Raw Data)', 'Random Forest (Raw Data)', 'MLP (de-skewed)', 'SVM (Scaled)', 'MLP (Scaled)']"
   ]
  },
  {
   "cell_type": "code",
   "execution_count": 5,
   "id": "6a612586-632a-4f1e-8196-3f145b9020fe",
   "metadata": {},
   "outputs": [],
   "source": [
    "X = data.drop(columns=[\"Outcome\"])\n",
    "y = data[\"Outcome\"]"
   ]
  },
  {
   "cell_type": "code",
   "execution_count": 6,
   "id": "059de5d0-3f7f-483d-9f0b-f25c3729f632",
   "metadata": {},
   "outputs": [],
   "source": [
    "# Random Forest Classifier (raw data)\n",
    "X_train_rf, X_test_rf, y_train_rf, y_test_rf = train_test_split(X, y, test_size=0.3, random_state=849)\n",
    "\n",
    "# Building the Random Forest model\n",
    "rf_model = RandomForestClassifier(n_estimators=100, random_state=849)\n",
    "rf_model.fit(X_train_rf, y_train_rf)\n",
    "\n",
    "# Making predictions\n",
    "y_pred_rf = rf_model.predict(X_test_rf)\n",
    "    \n",
    "# Calculating accuracy of the model\n",
    "accuracy_rf = accuracy_score(y_test_rf, y_pred_rf)"
   ]
  },
  {
   "cell_type": "code",
   "execution_count": 7,
   "id": "4e199a3e-59b5-441d-bd5e-04d5f3ed1189",
   "metadata": {},
   "outputs": [],
   "source": [
    "# Logistic Regression (raw data)\n",
    "X_train_lr, X_test_lr, y_train_lr, y_test_lr = train_test_split(X, y, test_size=0.3, random_state=142)\n",
    "\n",
    "# Building the Logistic Regression model\n",
    "lr_model = LogisticRegression(max_iter=200, random_state=142)\n",
    "lr_model.fit(X_train_lr, y_train_lr)\n",
    "\n",
    "# Making predictions\n",
    "y_pred_lr = lr_model.predict(X_test_lr)\n",
    "\n",
    "# Calculating accuracy of the model\n",
    "accuracy_lr = accuracy_score(y_test_lr, y_pred_lr)"
   ]
  },
  {
   "cell_type": "code",
   "execution_count": 8,
   "id": "e177e449-2158-4909-810e-7ac70c93dc0c",
   "metadata": {},
   "outputs": [],
   "source": [
    "# Handeling Skeweness\n",
    "data_transformed = data.copy()\n",
    "numeric_cols = data_transformed.select_dtypes(include=[np.number]).columns\n",
    "numeric_cols = numeric_cols[numeric_cols != 'Outcome']\n",
    "\n",
    "# Calculate initial skewness\n",
    "initial_skew = data_transformed[numeric_cols].apply(skew)\n",
    "skewed_initial = initial_skew[abs(initial_skew) > 0.5]\n",
    "\n",
    "# Apply Yeo-Johnson transformation to highly skewed features\n",
    "pt = PowerTransformer(method='yeo-johnson')\n",
    "data_transformed[skewed_initial.index] = pt.fit_transform(data_transformed[skewed_initial.index])\n",
    "\n",
    "# Recalculate skewness after Yeo-Johnson\n",
    "skew_after_pt = data_transformed[skewed_initial.index].apply(skew)\n",
    "still_skewed = skew_after_pt[abs(skew_after_pt) > 0.5]\n",
    "\n",
    "# Ensure 'Outcome' column is not affected\n",
    "data_transformed['Outcome'] = data['Outcome']"
   ]
  },
  {
   "cell_type": "code",
   "execution_count": 9,
   "id": "366c9efc-2ee9-4f2c-b34f-b31b228885c4",
   "metadata": {},
   "outputs": [],
   "source": [
    "X = data_transformed.drop(columns=['Outcome'])\n",
    "y = data_transformed['Outcome']"
   ]
  },
  {
   "cell_type": "code",
   "execution_count": 10,
   "id": "919b588f-faf4-43dc-a7e6-3016cd096da7",
   "metadata": {},
   "outputs": [],
   "source": [
    "# Multi-Layer Perceptron (de-skewed)\n",
    "X_train_mlpd, X_test_mlpd, y_train_mlpd, y_test_mlpd = train_test_split(X, y, test_size=0.3, random_state=585)\n",
    "\n",
    "# Building MLP model\n",
    "mlpd_model = MLPClassifier(random_state=585, max_iter=500, solver='adam', hidden_layer_sizes=(100,))\n",
    "mlpd_model.fit(X_train_mlpd, y_train_mlpd)\n",
    "\n",
    "# Making predictions\n",
    "y_pred_mlpd = mlpd_model.predict(X_test_mlpd)\n",
    "\n",
    "# Calculating accuracy of the model\n",
    "accuracy_mlpd = accuracy_score(y_test_mlpd, y_pred_mlpd)"
   ]
  },
  {
   "cell_type": "code",
   "execution_count": 11,
   "id": "30d2b789-c18d-426d-b513-bad6323631cd",
   "metadata": {},
   "outputs": [],
   "source": [
    "# Support Vector Machine with Radial Basis Function Kernel (scaled)\n",
    "X_train_svm, X_test_svm, y_train_svm, y_test_svm = train_test_split(X, y, test_size=0.3, random_state=645)\n",
    "\n",
    "# Standard Scaler\n",
    "scaler_svm = StandardScaler()\n",
    "X_train_svm_std = scaler_svm.fit_transform(X_train_svm)\n",
    "X_test_svm_std = scaler_svm.transform(X_test_svm)\n",
    "\n",
    "# Building SVM model\n",
    "svm_scaled_model = SVC(kernel='rbf', probability=True, random_state=645)\n",
    "svm_scaled_model.fit(X_train_svm_std, y_train_svm)\n",
    "\n",
    "# Making predictions\n",
    "y_pred_svm = svm_scaled_model.predict(X_test_svm_std)\n",
    "\n",
    "# Calculating accuracy of the model                                   \n",
    "accuracy_svm = accuracy_score(y_test_svm, y_pred_svm)"
   ]
  },
  {
   "cell_type": "code",
   "execution_count": 12,
   "id": "8deaa1f9-07da-46e6-8383-cdc7bdf64b05",
   "metadata": {},
   "outputs": [],
   "source": [
    "# Multi-Layer Perceptron (scaled)\n",
    "X_train_mlp, X_test_mlp, y_train_mlp, y_test_mlp = train_test_split(X, y, test_size=0.3, random_state=742)\n",
    "\n",
    "# Standard Scaler\n",
    "scaler_mlp = StandardScaler()\n",
    "X_train_mlp_std = scaler_mlp.fit_transform(X_train_mlp)\n",
    "X_test_mlp_std = scaler_mlp.transform(X_test_mlp)\n",
    "\n",
    "# Building MLP model\n",
    "mlp_scaled_model = MLPClassifier(random_state=742, max_iter=3000, solver='adam', hidden_layer_sizes=(100,))\n",
    "mlp_scaled_model.fit(X_train_mlp_std, y_train_mlp)\n",
    "\n",
    "# Making predictions\n",
    "y_pred_mlp = mlp_scaled_model.predict(X_test_mlp_std)\n",
    "\n",
    "# Calculating accuracy of the model                                   \n",
    "accuracy_mlp = accuracy_score(y_test_mlp, y_pred_mlp)"
   ]
  },
  {
   "cell_type": "code",
   "execution_count": 13,
   "id": "65b04341-2dd9-494a-8a62-e9213dd84e14",
   "metadata": {},
   "outputs": [
    {
     "name": "stdin",
     "output_type": "stream",
     "text": [
      "🔹 Number of Pregnancies:  0\n",
      "🔹 Glucose Level:  120\n",
      "🔹 Blood Pressure:  128\n",
      "🔹 Body Mass Index (BMI):  34\n",
      "🔹 Family History of Diabetes:  0\n",
      "🔹 Age:  23\n"
     ]
    }
   ],
   "source": [
    "preg = float(input(\"🔹 Number of Pregnancies: \"))\n",
    "glu = float(input(\"🔹 Glucose Level: \"))\n",
    "bp = float(input(\"🔹 Blood Pressure: \"))\n",
    "bmi = float(input(\"🔹 Body Mass Index (BMI): \"))\n",
    "ped = float(input(\"🔹 Family History of Diabetes: \"))\n",
    "age = float(input(\"🔹 Age: \"))"
   ]
  },
  {
   "cell_type": "code",
   "execution_count": 14,
   "id": "c0ce59dc-3f77-4ac8-8899-7653da756a35",
   "metadata": {},
   "outputs": [],
   "source": [
    "# Creating Dataframe\n",
    "user_data = pd.DataFrame([{\n",
    "    'Pregnancies': preg,\n",
    "    'Glucose': glu,\n",
    "    'BloodPressure': bp,\n",
    "    'BMI': bmi,\n",
    "    'DiabetesPedigreeFunction': ped,\n",
    "    'Age': age\n",
    "}])"
   ]
  },
  {
   "cell_type": "code",
   "execution_count": 15,
   "id": "cefd093a-6419-48a5-8b89-81f04c800739",
   "metadata": {},
   "outputs": [
    {
     "name": "stdout",
     "output_type": "stream",
     "text": [
      "🌲 Random Forest (raw): 51.00%\n",
      "📈 Logistic Regression (raw): 17.24%\n"
     ]
    }
   ],
   "source": [
    "# Random Forest (raw)\n",
    "rf_prob = rf_model.predict_proba(user_data)[0][1]\n",
    "print(f\"🌲 Random Forest (raw): {rf_prob*100:.2f}%\")\n",
    "\n",
    "# Logistic Regression (raw)\n",
    "logreg_prob = lr_model.predict_proba(user_data)[0][1]\n",
    "print(f\"📈 Logistic Regression (raw): {logreg_prob*100:.2f}%\")"
   ]
  },
  {
   "cell_type": "code",
   "execution_count": 16,
   "id": "e0e772c6-f4c7-464e-9aeb-2034d1d76717",
   "metadata": {},
   "outputs": [],
   "source": [
    "# Same Skeweness Handeling\n",
    "user_transformed = user_data.copy()\n",
    "\n",
    "# Columns to Transform\n",
    "yeo_columns = ['Pregnancies', 'Glucose', 'BMI', 'DiabetesPedigreeFunction', 'Age']\n",
    "\n",
    "# Applying Yeo-Johnson\n",
    "pt = PowerTransformer(method='yeo-johnson')\n",
    "user_transformed[yeo_columns] = pt.fit_transform(user_transformed[yeo_columns])"
   ]
  },
  {
   "cell_type": "code",
   "execution_count": 17,
   "id": "eba9d4aa-6104-4579-869b-4602aaa78221",
   "metadata": {},
   "outputs": [
    {
     "name": "stdout",
     "output_type": "stream",
     "text": [
      "🧠 MLP (de-skewed): 20.69%\n"
     ]
    }
   ],
   "source": [
    "# MLP (un-skewed)\n",
    "mlp_deskewed_prob = mlpd_model.predict_proba(user_transformed)[0][1]\n",
    "print(f\"🧠 MLP (de-skewed): {mlp_deskewed_prob*100:.2f}%\")"
   ]
  },
  {
   "cell_type": "code",
   "execution_count": 18,
   "id": "b2e9102e-2a59-40db-92ec-c6a6e76539ab",
   "metadata": {},
   "outputs": [],
   "source": [
    "# Scaling\n",
    "user_scaled = user_transformed.copy()\n",
    "\n",
    "user_scaled = scaler_mlp.transform(user_scaled) # برای MLP (scaled)\n",
    "user_svm = scaler_svm.transform(user_transformed) # برای SVM"
   ]
  },
  {
   "cell_type": "code",
   "execution_count": 19,
   "id": "b78b4d12-c294-49bd-ab15-2e4d7c938b32",
   "metadata": {},
   "outputs": [
    {
     "name": "stdout",
     "output_type": "stream",
     "text": [
      "⚙️ MLP (scaled): 0.00%\n",
      "🔻 SVM (scaled): 38.09%\n"
     ]
    }
   ],
   "source": [
    "# MLP (scaled)\n",
    "mlp_scaled_prob = mlp_scaled_model.predict_proba(user_scaled)[0][1]\n",
    "print(f\"⚙️ MLP (scaled): {mlp_scaled_prob*100:.2f}%\")\n",
    "\n",
    "# SVM (scaled)\n",
    "svm_prob = svm_scaled_model.predict_proba(user_svm)[0][1]\n",
    "print(f\"🔻 SVM (scaled): {svm_prob*100:.2f}%\")"
   ]
  },
  {
   "cell_type": "code",
   "execution_count": 20,
   "id": "d3350a1d-d5d4-44e3-9837-16169ad39e10",
   "metadata": {},
   "outputs": [],
   "source": [
    "probs = [rf_prob, logreg_prob, mlp_deskewed_prob, mlp_scaled_prob, svm_prob]"
   ]
  },
  {
   "cell_type": "code",
   "execution_count": 21,
   "id": "f4eb1920-77e2-4229-b9ff-e18749c57bb1",
   "metadata": {},
   "outputs": [
    {
     "name": "stdout",
     "output_type": "stream",
     "text": [
      "\n",
      "📌 Final average probability of diabetes risk: 25.40%\n"
     ]
    }
   ],
   "source": [
    "avg_prob = sum(probs) / len(probs)\n",
    "print(f\"\\n📌 Final average probability of diabetes risk: {avg_prob*100:.2f}%\")"
   ]
  },
  {
   "cell_type": "code",
   "execution_count": 22,
   "id": "5d6bbbca-b317-469a-9420-1f27142484ec",
   "metadata": {},
   "outputs": [
    {
     "name": "stdout",
     "output_type": "stream",
     "text": [
      "🌲 Random Forest (raw): 51.00%\n",
      "📈 Logistic Regression (raw): 17.24%\n",
      "🧠 MLP (deskewed): 20.69%\n",
      "⚙️ MLP (scaled): 0.00%\n",
      "🔻 SVM (scaled): 38.09%\n",
      "\n",
      "📌 Final average probability of diabetes risk: 25.40%\n"
     ]
    }
   ],
   "source": [
    "print(f\"🌲 Random Forest (raw): {rf_prob*100:.2f}%\")\n",
    "print(f\"📈 Logistic Regression (raw): {logreg_prob*100:.2f}%\")\n",
    "print(f\"🧠 MLP (deskewed): {mlp_deskewed_prob*100:.2f}%\")\n",
    "print(f\"⚙️ MLP (scaled): {mlp_scaled_prob*100:.2f}%\")\n",
    "print(f\"🔻 SVM (scaled): {svm_prob*100:.2f}%\")\n",
    "print(f\"\\n📌 Final average probability of diabetes risk: {avg_prob*100:.2f}%\")"
   ]
  },
  {
   "cell_type": "code",
   "execution_count": null,
   "id": "84288509-c82b-4f1f-a4d9-5335fafa7bbe",
   "metadata": {},
   "outputs": [],
   "source": []
  }
 ],
 "metadata": {
  "kernelspec": {
   "display_name": "Python 3 (ipykernel)",
   "language": "python",
   "name": "python3"
  },
  "language_info": {
   "codemirror_mode": {
    "name": "ipython",
    "version": 3
   },
   "file_extension": ".py",
   "mimetype": "text/x-python",
   "name": "python",
   "nbconvert_exporter": "python",
   "pygments_lexer": "ipython3",
   "version": "3.12.4"
  }
 },
 "nbformat": 4,
 "nbformat_minor": 5
}
